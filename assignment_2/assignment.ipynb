{
 "cells": [
  {
   "cell_type": "code",
   "execution_count": 75,
   "id": "2a9acc05",
   "metadata": {},
   "outputs": [],
   "source": [
    "import keras\n",
    "import tensorflow as tf\n",
    "import numpy as np\n",
    "from keras import layers\n",
    "from keras import ops\n",
    "import matplotlib.pyplot as plt\n",
    "from sklearn.model_selection import train_test_split\n",
    "from keras.layers import LeakyReLU\n",
    "\n",
    "import warnings\n",
    "warnings.filterwarnings(\"ignore\", category=UserWarning)"
   ]
  },
  {
   "cell_type": "code",
   "execution_count": 19,
   "id": "92c5b0da",
   "metadata": {},
   "outputs": [
    {
     "data": {
      "text/plain": [
       "((88799, 28, 28), (88799,))"
      ]
     },
     "execution_count": 19,
     "metadata": {},
     "output_type": "execute_result"
    }
   ],
   "source": [
    "X = np.load('x_letters.npy')\n",
    "y = np.load('y_letters.npy')\n",
    "\n",
    "X_train, X_test, y_train, y_test = train_test_split(X, y, test_size = 0.2, random_state = 42)\n",
    "X_train, X_val, y_train, y_val = train_test_split(X_train, y_train, test_size = 0.2, random_state = 42)\n",
    "\n",
    "# X_train = X_train.astype('float32') / 255.0\n",
    "# X_val = X_val.astype('float32') / 255.0\n",
    "# X_test = X_test.astype('float32') / 255.0\n",
    "\n",
    "X.shape, y.shape"
   ]
  },
  {
   "cell_type": "code",
   "execution_count": 20,
   "id": "b391665c",
   "metadata": {},
   "outputs": [
    {
     "data": {
      "text/plain": [
       "<matplotlib.image.AxesImage at 0x2d1114d25d0>"
      ]
     },
     "execution_count": 20,
     "metadata": {},
     "output_type": "execute_result"
    },
    {
     "data": {
      "image/png": "[encoded data removed]",
      "text/plain": [
       "<Figure size 640x480 with 1 Axes>"
      ]
     },
     "metadata": {},
     "output_type": "display_data"
    }
   ],
   "source": [
    "plt.imshow(X[0], cmap = 'gray')"
   ]
  },
  {
   "cell_type": "markdown",
   "id": "6299c9ba",
   "metadata": {},
   "source": [
    "### Regular GAN"
   ]
  },
  {
   "cell_type": "code",
   "execution_count": 21,
   "id": "04633bb3",
   "metadata": {},
   "outputs": [],
   "source": [
    "class GAN(keras.Model):\n",
    "    def __init__(self, discriminator, generator, latent_dim):\n",
    "        super().__init__()\n",
    "        self.discriminator = discriminator\n",
    "        self.generator = generator\n",
    "        self.latent_dim = latent_dim\n",
    "        self.seed_generator = keras.random.SeedGenerator(1337)\n",
    "\n",
    "    def compile(self, d_optimizer, g_optimizer, loss_fn):\n",
    "        super().compile()\n",
    "        self.d_optimizer = d_optimizer\n",
    "        self.g_optimizer = g_optimizer\n",
    "        self.loss_fn = loss_fn\n",
    "        self.d_loss_metric = keras.metrics.Mean(name=\"d_loss\")\n",
    "        self.g_loss_metric = keras.metrics.Mean(name=\"g_loss\")\n",
    "\n",
    "    @property\n",
    "    def metrics(self):\n",
    "        return [self.d_loss_metric, self.g_loss_metric]\n",
    "\n",
    "    def train_step(self, real_images):\n",
    "       #sample random points in the latent space\n",
    "       batch_size = ops.shape(real_images)[0]\n",
    "       random_latent_vectors = keras.random.normal(\n",
    "           shape = (batch_size, self.latent_dim)\n",
    "       )\n",
    "\n",
    "       #create images out of random vectors\n",
    "       generated_images = self.generator(random_latent_vectors)\n",
    "\n",
    "       #combine with real images\n",
    "       combined_images = ops.concatenate([generated_images, real_images], axis = 0)\n",
    "\n",
    "       labels = ops.concatenate(\n",
    "           [ops.ones((batch_size, 1)), ops.zeros((batch_size, 1))], axis = 0\n",
    "       )\n",
    "\n",
    "       # add noise so the generator has a chance\n",
    "       labels += 0.05*tf.random.uniform(tf.shape(labels))\n",
    "\n",
    "       #train the discriminator\n",
    "       with tf.GradientTape() as tape:\n",
    "          predictions = self.discriminator(combined_images)\n",
    "          d_loss = self.loss_fn(labels, predictions)\n",
    "       grads = tape.gradient(d_loss, self.discriminator.trainable_weights)\n",
    "       self.d_optimizer.apply_gradients(zip(grads, self.discriminator.trainable_weights))\n",
    "\n",
    "       #sample random points in latent space\n",
    "       random_latent_vectors = keras.random.normal(\n",
    "           shape = (batch_size, self.latent_dim)\n",
    "       )\n",
    "\n",
    "       #misleading labels saying \"all real\"\n",
    "       misleading_labels = ops.zeros((batch_size, 1))\n",
    "\n",
    "       #train generator (don't touch the weights of the discriminator)\n",
    "       with tf.GradientTape() as tape:\n",
    "          predictions = self.discriminator(self.generator(random_latent_vectors))\n",
    "          g_loss = self.loss_fn(misleading_labels, predictions)\n",
    "       grads = tape.gradient(g_loss, self.generator.trainable_weights)\n",
    "       self.g_optimizer.apply_gradients(zip(grads, self.generator.trainable_weights))\n",
    "\n",
    "       #update metrics\n",
    "       self.d_loss_metric.update_state(d_loss)\n",
    "       self.g_loss_metric.update_state(g_loss)\n",
    "       return {\n",
    "           \"d_loss\" : self.d_loss_metric.result(),\n",
    "           \"g_loss\" : self.g_loss_metric.result(),\n",
    "       }\n"
   ]
  },
  {
   "cell_type": "code",
   "execution_count": 31,
   "id": "b92bc667",
   "metadata": {},
   "outputs": [
    {
     "name": "stdout",
     "output_type": "stream",
     "text": [
      "Epoch 1/20\n",
      "\u001b[1m1776/1776\u001b[0m \u001b[32m━━━━━━━━━━━━━━━━━━━━\u001b[0m\u001b[37m\u001b[0m \u001b[1m4s\u001b[0m 2ms/step - d_loss: 0.6095 - g_loss: 2.6556\n",
      "Epoch 2/20\n",
      "\u001b[1m1776/1776\u001b[0m \u001b[32m━━━━━━━━━━━━━━━━━━━━\u001b[0m\u001b[37m\u001b[0m \u001b[1m4s\u001b[0m 2ms/step - d_loss: 0.5620 - g_loss: 1.2340\n",
      "Epoch 3/20\n",
      "\u001b[1m1776/1776\u001b[0m \u001b[32m━━━━━━━━━━━━━━━━━━━━\u001b[0m\u001b[37m\u001b[0m \u001b[1m4s\u001b[0m 2ms/step - d_loss: 0.5798 - g_loss: 1.2370\n",
      "Epoch 4/20\n",
      "\u001b[1m1776/1776\u001b[0m \u001b[32m━━━━━━━━━━━━━━━━━━━━\u001b[0m\u001b[37m\u001b[0m \u001b[1m4s\u001b[0m 2ms/step - d_loss: 0.6035 - g_loss: 1.1475\n",
      "Epoch 5/20\n",
      "\u001b[1m1776/1776\u001b[0m \u001b[32m━━━━━━━━━━━━━━━━━━━━\u001b[0m\u001b[37m\u001b[0m \u001b[1m4s\u001b[0m 2ms/step - d_loss: 0.6073 - g_loss: 1.1099\n",
      "Epoch 6/20\n",
      "\u001b[1m1776/1776\u001b[0m \u001b[32m━━━━━━━━━━━━━━━━━━━━\u001b[0m\u001b[37m\u001b[0m \u001b[1m4s\u001b[0m 2ms/step - d_loss: 0.6052 - g_loss: 1.0966\n",
      "Epoch 7/20\n",
      "\u001b[1m1776/1776\u001b[0m \u001b[32m━━━━━━━━━━━━━━━━━━━━\u001b[0m\u001b[37m\u001b[0m \u001b[1m4s\u001b[0m 2ms/step - d_loss: 0.6037 - g_loss: 1.0999\n",
      "Epoch 8/20\n",
      "\u001b[1m1776/1776\u001b[0m \u001b[32m━━━━━━━━━━━━━━━━━━━━\u001b[0m\u001b[37m\u001b[0m \u001b[1m4s\u001b[0m 2ms/step - d_loss: 0.6061 - g_loss: 1.0966\n",
      "Epoch 9/20\n",
      "\u001b[1m1776/1776\u001b[0m \u001b[32m━━━━━━━━━━━━━━━━━━━━\u001b[0m\u001b[37m\u001b[0m \u001b[1m4s\u001b[0m 2ms/step - d_loss: 0.6040 - g_loss: 1.0937\n",
      "Epoch 10/20\n",
      "\u001b[1m1776/1776\u001b[0m \u001b[32m━━━━━━━━━━━━━━━━━━━━\u001b[0m\u001b[37m\u001b[0m \u001b[1m4s\u001b[0m 2ms/step - d_loss: 0.6154 - g_loss: 1.0808\n",
      "Epoch 11/20\n",
      "\u001b[1m1776/1776\u001b[0m \u001b[32m━━━━━━━━━━━━━━━━━━━━\u001b[0m\u001b[37m\u001b[0m \u001b[1m4s\u001b[0m 2ms/step - d_loss: 0.6039 - g_loss: 1.0846\n",
      "Epoch 12/20\n",
      "\u001b[1m1776/1776\u001b[0m \u001b[32m━━━━━━━━━━━━━━━━━━━━\u001b[0m\u001b[37m\u001b[0m \u001b[1m4s\u001b[0m 2ms/step - d_loss: 0.6042 - g_loss: 1.0914\n",
      "Epoch 13/20\n",
      "\u001b[1m1776/1776\u001b[0m \u001b[32m━━━━━━━━━━━━━━━━━━━━\u001b[0m\u001b[37m\u001b[0m \u001b[1m4s\u001b[0m 2ms/step - d_loss: 0.6018 - g_loss: 1.0969\n",
      "Epoch 14/20\n",
      "\u001b[1m1776/1776\u001b[0m \u001b[32m━━━━━━━━━━━━━━━━━━━━\u001b[0m\u001b[37m\u001b[0m \u001b[1m4s\u001b[0m 2ms/step - d_loss: 0.6029 - g_loss: 1.0998\n",
      "Epoch 15/20\n",
      "\u001b[1m1776/1776\u001b[0m \u001b[32m━━━━━━━━━━━━━━━━━━━━\u001b[0m\u001b[37m\u001b[0m \u001b[1m4s\u001b[0m 2ms/step - d_loss: 0.6038 - g_loss: 1.1027\n",
      "Epoch 16/20\n",
      "\u001b[1m1776/1776\u001b[0m \u001b[32m━━━━━━━━━━━━━━━━━━━━\u001b[0m\u001b[37m\u001b[0m \u001b[1m4s\u001b[0m 2ms/step - d_loss: 0.6181 - g_loss: 1.0630\n",
      "Epoch 17/20\n",
      "\u001b[1m1776/1776\u001b[0m \u001b[32m━━━━━━━━━━━━━━━━━━━━\u001b[0m\u001b[37m\u001b[0m \u001b[1m4s\u001b[0m 2ms/step - d_loss: 0.6070 - g_loss: 1.0860\n",
      "Epoch 18/20\n",
      "\u001b[1m1776/1776\u001b[0m \u001b[32m━━━━━━━━━━━━━━━━━━━━\u001b[0m\u001b[37m\u001b[0m \u001b[1m4s\u001b[0m 2ms/step - d_loss: 0.6088 - g_loss: 1.0840\n",
      "Epoch 19/20\n",
      "\u001b[1m1776/1776\u001b[0m \u001b[32m━━━━━━━━━━━━━━━━━━━━\u001b[0m\u001b[37m\u001b[0m \u001b[1m4s\u001b[0m 2ms/step - d_loss: 0.6080 - g_loss: 1.0853\n",
      "Epoch 20/20\n",
      "\u001b[1m1776/1776\u001b[0m \u001b[32m━━━━━━━━━━━━━━━━━━━━\u001b[0m\u001b[37m\u001b[0m \u001b[1m4s\u001b[0m 2ms/step - d_loss: 0.6097 - g_loss: 1.0817\n"
     ]
    },
    {
     "data": {
      "text/plain": [
       "<keras.src.callbacks.history.History at 0x2d0f91156d0>"
      ]
     },
     "execution_count": 31,
     "metadata": {},
     "output_type": "execute_result"
    }
   ],
   "source": [
    "latent_dim = 32\n",
    "\n",
    "generator = keras.Sequential(\n",
    "    [\n",
    "        keras.Input(shape=(latent_dim,)),\n",
    "        layers.Dense(256, activation=\"tanh\", kernel_initializer=\"he_normal\"),\n",
    "        layers.Dense(512, activation=\"tanh\", kernel_initializer=\"he_normal\"),\n",
    "        layers.Dense(28*28, activation=\"sigmoid\"),\n",
    "        layers.Reshape((28, 28)),\n",
    "    ],\n",
    "    name= \"generator\",\n",
    ")\n",
    "\n",
    "discriminator = keras.Sequential(\n",
    "    [\n",
    "        keras.Input(shape=(28, 28)),\n",
    "        layers.Flatten(),\n",
    "        layers.Dense(150, activation=\"leaky_relu\", kernel_initializer=\"he_normal\"),\n",
    "        layers.Dense(100, activation=\"leaky_relu\", kernel_initializer=\"he_normal\"),\n",
    "        layers.Dense(1, activation=\"sigmoid\"),\n",
    "    ],\n",
    "    name= \"discriminator\",\n",
    ")\n",
    "\n",
    "epochs = 20\n",
    "\n",
    "gan = GAN(discriminator=discriminator, generator=generator, latent_dim=latent_dim)\n",
    "gan.compile(\n",
    "    d_optimizer=keras.optimizers.RMSprop(learning_rate=0.0005),\n",
    "    g_optimizer=keras.optimizers.RMSprop(learning_rate=0.001),\n",
    "    loss_fn=keras.losses.BinaryCrossentropy(),\n",
    ")\n",
    "\n",
    "gan.fit(X_train, epochs=epochs)"
   ]
  },
  {
   "cell_type": "code",
   "execution_count": 34,
   "id": "2de8d35e",
   "metadata": {},
   "outputs": [],
   "source": [
    "def plot_images(n_images, generator, latent_dim):\n",
    "    random_latent_vectors = keras.random.normal(\n",
    "            shape=(n_images, latent_dim), seed = keras.random.SeedGenerator(1322)\n",
    "        )\n",
    "\n",
    "    images = generator(random_latent_vectors)\n",
    "\n",
    "    fig = plt.figure(figsize=(n_images * 1.5, 4.5)) # gives space between letters\n",
    "    for image_index in range(n_images):\n",
    "        plt.subplot(1, n_images, 1 + image_index)\n",
    "        plt.imshow(images[image_index], cmap=\"binary\")\n",
    "        plt.axis(\"off\")\n",
    "    plt.show()"
   ]
  },
  {
   "cell_type": "code",
   "execution_count": 35,
   "id": "a5d99064",
   "metadata": {},
   "outputs": [
    {
     "data": {
      "image/png": "[encoded data removed]",
      "text/plain": [
       "<Figure size 1500x450 with 10 Axes>"
      ]
     },
     "metadata": {},
     "output_type": "display_data"
    }
   ],
   "source": [
    "plot_images(10, generator, latent_dim)"
   ]
  },
  {
   "cell_type": "markdown",
   "id": "c78087ac",
   "metadata": {},
   "source": [
    "### Changing to Conditional GAN"
   ]
  },
  {
   "cell_type": "code",
   "execution_count": null,
   "id": "52302a18",
   "metadata": {},
   "outputs": [],
   "source": [
    "class GAN(keras.Model):\n",
    "    def __init__(self, discriminator, generator, latent_dim):\n",
    "        super().__init__()\n",
    "        self.discriminator = discriminator\n",
    "        self.generator = generator\n",
    "        self.latent_dim = latent_dim\n",
    "        self.seed_generator = keras.random.SeedGenerator(1337)\n",
    "\n",
    "    def compile(self, d_optimizer, g_optimizer, loss_fn):\n",
    "        super().compile()\n",
    "        self.d_optimizer = d_optimizer\n",
    "        self.g_optimizer = g_optimizer\n",
    "        self.loss_fn = loss_fn\n",
    "        self.d_loss_metric = keras.metrics.Mean(name=\"d_loss\")\n",
    "        self.g_loss_metric = keras.metrics.Mean(name=\"g_loss\")\n",
    "\n",
    "    @property\n",
    "    def metrics(self):\n",
    "        return [self.d_loss_metric, self.g_loss_metric]\n",
    "\n",
    "    def train_step(self, data): # <-- instead of random points, you now package labels in too\n",
    "       real_images, real_labels = data\n",
    "       \n",
    "       batch_size = ops.shape(real_images)[0]\n",
    "       random_latent_vectors = keras.random.normal(\n",
    "           shape = (batch_size, self.latent_dim)\n",
    "       )\n",
    "\n",
    "       generated_images = self.generator([random_latent_vectors, real_labels]) # <-- now include labels\n",
    "\n",
    "       #combine with real images\n",
    "       combined_images = ops.concatenate([generated_images, real_images], axis = 0)\n",
    "       combined_labels = ops.concatenate([real_labels, real_labels], axis = 0) # <-- now include labels\n",
    "\n",
    "       labels = ops.concatenate(\n",
    "           [ops.ones((batch_size, 1)), ops.zeros((batch_size, 1))], axis = 0\n",
    "       )\n",
    "\n",
    "       # add noise so the generator has a chance\n",
    "       labels += 0.05*tf.random.uniform(tf.shape(labels))\n",
    "\n",
    "       #train the discriminator\n",
    "       with tf.GradientTape() as tape:\n",
    "          predictions = self.discriminator([combined_images, combined_labels]) # <-- now include labels\n",
    "          d_loss = self.loss_fn(labels, predictions)\n",
    "       grads = tape.gradient(d_loss, self.discriminator.trainable_weights)\n",
    "       self.d_optimizer.apply_gradients(zip(grads, self.discriminator.trainable_weights))\n",
    "\n",
    "       random_latent_vectors = keras.random.normal(\n",
    "           shape = (batch_size, self.latent_dim)\n",
    "       )\n",
    "\n",
    "       #misleading labels saying \"all real\"\n",
    "       misleading_labels = ops.zeros((batch_size, 1))\n",
    "\n",
    "       #train generator (don't touch the weights of the discriminator)\n",
    "       with tf.GradientTape() as tape:\n",
    "          generated_images = self.generator([random_latent_vectors, real_labels]) # <-- now include labels\n",
    "          predictions = self.discriminator([generated_images, real_labels]) # <-- now include labels\n",
    "          g_loss = self.loss_fn(misleading_labels, predictions)\n",
    "       grads = tape.gradient(g_loss, self.generator.trainable_weights)\n",
    "       self.g_optimizer.apply_gradients(zip(grads, self.generator.trainable_weights))\n",
    "\n",
    "       #update metrics\n",
    "       self.d_loss_metric.update_state(d_loss)\n",
    "       self.g_loss_metric.update_state(g_loss)\n",
    "       return {\n",
    "           \"d_loss\" : self.d_loss_metric.result(),\n",
    "           \"g_loss\" : self.g_loss_metric.result(),\n",
    "       }"
   ]
  },
  {
   "cell_type": "code",
   "execution_count": 119,
   "id": "18ea8a1a",
   "metadata": {},
   "outputs": [
    {
     "name": "stdout",
     "output_type": "stream",
     "text": [
      "Epoch 1/40\n",
      "\u001b[1m888/888\u001b[0m \u001b[32m━━━━━━━━━━━━━━━━━━━━\u001b[0m\u001b[37m\u001b[0m \u001b[1m3s\u001b[0m 3ms/step - d_loss: 0.6441 - g_loss: 1.1498\n",
      "Epoch 2/40\n",
      "\u001b[1m888/888\u001b[0m \u001b[32m━━━━━━━━━━━━━━━━━━━━\u001b[0m\u001b[37m\u001b[0m \u001b[1m3s\u001b[0m 3ms/step - d_loss: 0.5642 - g_loss: 1.1566\n",
      "Epoch 3/40\n",
      "\u001b[1m888/888\u001b[0m \u001b[32m━━━━━━━━━━━━━━━━━━━━\u001b[0m\u001b[37m\u001b[0m \u001b[1m3s\u001b[0m 3ms/step - d_loss: 0.6011 - g_loss: 1.0766\n",
      "Epoch 4/40\n",
      "\u001b[1m888/888\u001b[0m \u001b[32m━━━━━━━━━━━━━━━━━━━━\u001b[0m\u001b[37m\u001b[0m \u001b[1m2s\u001b[0m 3ms/step - d_loss: 0.6116 - g_loss: 1.0358\n",
      "Epoch 5/40\n",
      "\u001b[1m888/888\u001b[0m \u001b[32m━━━━━━━━━━━━━━━━━━━━\u001b[0m\u001b[37m\u001b[0m \u001b[1m2s\u001b[0m 3ms/step - d_loss: 0.6100 - g_loss: 1.0463\n",
      "Epoch 6/40\n",
      "\u001b[1m888/888\u001b[0m \u001b[32m━━━━━━━━━━━━━━━━━━━━\u001b[0m\u001b[37m\u001b[0m \u001b[1m2s\u001b[0m 3ms/step - d_loss: 0.6148 - g_loss: 1.0352\n",
      "Epoch 7/40\n",
      "\u001b[1m888/888\u001b[0m \u001b[32m━━━━━━━━━━━━━━━━━━━━\u001b[0m\u001b[37m\u001b[0m \u001b[1m2s\u001b[0m 3ms/step - d_loss: 0.6226 - g_loss: 1.0112\n",
      "Epoch 8/40\n",
      "\u001b[1m888/888\u001b[0m \u001b[32m━━━━━━━━━━━━━━━━━━━━\u001b[0m\u001b[37m\u001b[0m \u001b[1m2s\u001b[0m 3ms/step - d_loss: 0.6219 - g_loss: 1.0054\n",
      "Epoch 9/40\n",
      "\u001b[1m888/888\u001b[0m \u001b[32m━━━━━━━━━━━━━━━━━━━━\u001b[0m\u001b[37m\u001b[0m \u001b[1m2s\u001b[0m 3ms/step - d_loss: 0.6276 - g_loss: 1.0038\n",
      "Epoch 10/40\n",
      "\u001b[1m888/888\u001b[0m \u001b[32m━━━━━━━━━━━━━━━━━━━━\u001b[0m\u001b[37m\u001b[0m \u001b[1m2s\u001b[0m 3ms/step - d_loss: 0.6296 - g_loss: 0.9921\n",
      "Epoch 11/40\n",
      "\u001b[1m888/888\u001b[0m \u001b[32m━━━━━━━━━━━━━━━━━━━━\u001b[0m\u001b[37m\u001b[0m \u001b[1m2s\u001b[0m 3ms/step - d_loss: 0.6275 - g_loss: 0.9939\n",
      "Epoch 12/40\n",
      "\u001b[1m888/888\u001b[0m \u001b[32m━━━━━━━━━━━━━━━━━━━━\u001b[0m\u001b[37m\u001b[0m \u001b[1m2s\u001b[0m 3ms/step - d_loss: 0.6300 - g_loss: 0.9911\n",
      "Epoch 13/40\n",
      "\u001b[1m888/888\u001b[0m \u001b[32m━━━━━━━━━━━━━━━━━━━━\u001b[0m\u001b[37m\u001b[0m \u001b[1m2s\u001b[0m 3ms/step - d_loss: 0.6354 - g_loss: 0.9753\n",
      "Epoch 14/40\n",
      "\u001b[1m888/888\u001b[0m \u001b[32m━━━━━━━━━━━━━━━━━━━━\u001b[0m\u001b[37m\u001b[0m \u001b[1m2s\u001b[0m 3ms/step - d_loss: 0.6379 - g_loss: 0.9698\n",
      "Epoch 15/40\n",
      "\u001b[1m888/888\u001b[0m \u001b[32m━━━━━━━━━━━━━━━━━━━━\u001b[0m\u001b[37m\u001b[0m \u001b[1m2s\u001b[0m 3ms/step - d_loss: 0.6385 - g_loss: 0.9668\n",
      "Epoch 16/40\n",
      "\u001b[1m888/888\u001b[0m \u001b[32m━━━━━━━━━━━━━━━━━━━━\u001b[0m\u001b[37m\u001b[0m \u001b[1m2s\u001b[0m 3ms/step - d_loss: 0.6404 - g_loss: 0.9608\n",
      "Epoch 17/40\n",
      "\u001b[1m888/888\u001b[0m \u001b[32m━━━━━━━━━━━━━━━━━━━━\u001b[0m\u001b[37m\u001b[0m \u001b[1m2s\u001b[0m 3ms/step - d_loss: 0.6421 - g_loss: 0.9547\n",
      "Epoch 18/40\n",
      "\u001b[1m888/888\u001b[0m \u001b[32m━━━━━━━━━━━━━━━━━━━━\u001b[0m\u001b[37m\u001b[0m \u001b[1m2s\u001b[0m 3ms/step - d_loss: 0.6459 - g_loss: 0.9424\n",
      "Epoch 19/40\n",
      "\u001b[1m888/888\u001b[0m \u001b[32m━━━━━━━━━━━━━━━━━━━━\u001b[0m\u001b[37m\u001b[0m \u001b[1m2s\u001b[0m 3ms/step - d_loss: 0.6461 - g_loss: 0.9360\n",
      "Epoch 20/40\n",
      "\u001b[1m888/888\u001b[0m \u001b[32m━━━━━━━━━━━━━━━━━━━━\u001b[0m\u001b[37m\u001b[0m \u001b[1m2s\u001b[0m 3ms/step - d_loss: 0.6590 - g_loss: 0.9109\n",
      "Epoch 21/40\n",
      "\u001b[1m888/888\u001b[0m \u001b[32m━━━━━━━━━━━━━━━━━━━━\u001b[0m\u001b[37m\u001b[0m \u001b[1m2s\u001b[0m 3ms/step - d_loss: 0.6492 - g_loss: 0.9203\n",
      "Epoch 22/40\n",
      "\u001b[1m888/888\u001b[0m \u001b[32m━━━━━━━━━━━━━━━━━━━━\u001b[0m\u001b[37m\u001b[0m \u001b[1m2s\u001b[0m 3ms/step - d_loss: 0.6515 - g_loss: 0.9190\n",
      "Epoch 23/40\n",
      "\u001b[1m888/888\u001b[0m \u001b[32m━━━━━━━━━━━━━━━━━━━━\u001b[0m\u001b[37m\u001b[0m \u001b[1m2s\u001b[0m 3ms/step - d_loss: 0.6507 - g_loss: 0.9141\n",
      "Epoch 24/40\n",
      "\u001b[1m888/888\u001b[0m \u001b[32m━━━━━━━━━━━━━━━━━━━━\u001b[0m\u001b[37m\u001b[0m \u001b[1m2s\u001b[0m 3ms/step - d_loss: 0.6518 - g_loss: 0.9133\n",
      "Epoch 25/40\n",
      "\u001b[1m888/888\u001b[0m \u001b[32m━━━━━━━━━━━━━━━━━━━━\u001b[0m\u001b[37m\u001b[0m \u001b[1m2s\u001b[0m 3ms/step - d_loss: 0.6533 - g_loss: 0.9079\n",
      "Epoch 26/40\n",
      "\u001b[1m888/888\u001b[0m \u001b[32m━━━━━━━━━━━━━━━━━━━━\u001b[0m\u001b[37m\u001b[0m \u001b[1m2s\u001b[0m 3ms/step - d_loss: 0.6550 - g_loss: 0.9066\n",
      "Epoch 27/40\n",
      "\u001b[1m888/888\u001b[0m \u001b[32m━━━━━━━━━━━━━━━━━━━━\u001b[0m\u001b[37m\u001b[0m \u001b[1m2s\u001b[0m 3ms/step - d_loss: 0.6576 - g_loss: 0.9001\n",
      "Epoch 28/40\n",
      "\u001b[1m888/888\u001b[0m \u001b[32m━━━━━━━━━━━━━━━━━━━━\u001b[0m\u001b[37m\u001b[0m \u001b[1m2s\u001b[0m 3ms/step - d_loss: 0.6584 - g_loss: 0.8928\n",
      "Epoch 29/40\n",
      "\u001b[1m888/888\u001b[0m \u001b[32m━━━━━━━━━━━━━━━━━━━━\u001b[0m\u001b[37m\u001b[0m \u001b[1m2s\u001b[0m 3ms/step - d_loss: 0.6670 - g_loss: 0.8735\n",
      "Epoch 30/40\n",
      "\u001b[1m888/888\u001b[0m \u001b[32m━━━━━━━━━━━━━━━━━━━━\u001b[0m\u001b[37m\u001b[0m \u001b[1m2s\u001b[0m 3ms/step - d_loss: 0.6621 - g_loss: 0.8776\n",
      "Epoch 31/40\n",
      "\u001b[1m888/888\u001b[0m \u001b[32m━━━━━━━━━━━━━━━━━━━━\u001b[0m\u001b[37m\u001b[0m \u001b[1m2s\u001b[0m 3ms/step - d_loss: 0.6624 - g_loss: 0.8769\n",
      "Epoch 32/40\n",
      "\u001b[1m888/888\u001b[0m \u001b[32m━━━━━━━━━━━━━━━━━━━━\u001b[0m\u001b[37m\u001b[0m \u001b[1m2s\u001b[0m 3ms/step - d_loss: 0.6622 - g_loss: 0.8724\n",
      "Epoch 33/40\n",
      "\u001b[1m888/888\u001b[0m \u001b[32m━━━━━━━━━━━━━━━━━━━━\u001b[0m\u001b[37m\u001b[0m \u001b[1m2s\u001b[0m 3ms/step - d_loss: 0.6640 - g_loss: 0.8690\n",
      "Epoch 34/40\n",
      "\u001b[1m888/888\u001b[0m \u001b[32m━━━━━━━━━━━━━━━━━━━━\u001b[0m\u001b[37m\u001b[0m \u001b[1m2s\u001b[0m 3ms/step - d_loss: 0.6651 - g_loss: 0.8695\n",
      "Epoch 35/40\n",
      "\u001b[1m888/888\u001b[0m \u001b[32m━━━━━━━━━━━━━━━━━━━━\u001b[0m\u001b[37m\u001b[0m \u001b[1m2s\u001b[0m 3ms/step - d_loss: 0.6663 - g_loss: 0.8652\n",
      "Epoch 36/40\n",
      "\u001b[1m888/888\u001b[0m \u001b[32m━━━━━━━━━━━━━━━━━━━━\u001b[0m\u001b[37m\u001b[0m \u001b[1m2s\u001b[0m 3ms/step - d_loss: 0.6706 - g_loss: 0.8544\n",
      "Epoch 37/40\n",
      "\u001b[1m888/888\u001b[0m \u001b[32m━━━━━━━━━━━━━━━━━━━━\u001b[0m\u001b[37m\u001b[0m \u001b[1m2s\u001b[0m 3ms/step - d_loss: 0.6666 - g_loss: 0.8591\n",
      "Epoch 38/40\n",
      "\u001b[1m888/888\u001b[0m \u001b[32m━━━━━━━━━━━━━━━━━━━━\u001b[0m\u001b[37m\u001b[0m \u001b[1m2s\u001b[0m 3ms/step - d_loss: 0.6672 - g_loss: 0.8585\n",
      "Epoch 39/40\n",
      "\u001b[1m888/888\u001b[0m \u001b[32m━━━━━━━━━━━━━━━━━━━━\u001b[0m\u001b[37m\u001b[0m \u001b[1m2s\u001b[0m 3ms/step - d_loss: 0.6679 - g_loss: 0.8564\n",
      "Epoch 40/40\n",
      "\u001b[1m888/888\u001b[0m \u001b[32m━━━━━━━━━━━━━━━━━━━━\u001b[0m\u001b[37m\u001b[0m \u001b[1m2s\u001b[0m 3ms/step - d_loss: 0.6735 - g_loss: 0.8414\n"
     ]
    },
    {
     "data": {
      "text/plain": [
       "<keras.src.callbacks.history.History at 0x2d1374bdcc0>"
      ]
     },
     "execution_count": 119,
     "metadata": {},
     "output_type": "execute_result"
    }
   ],
   "source": [
    "num_classes = len(np.unique(y_train))\n",
    "y_train_cat = tf.keras.utils.to_categorical(y_train, num_classes)\n",
    "label_input = keras.Input(shape=(num_classes,))\n",
    "noise_input = keras.Input(shape=(latent_dim,))\n",
    "image_input = keras.Input(shape=(28, 28))\n",
    "\n",
    "latent_dim = 32\n",
    "\n",
    "# it's not sequential with image and label inputs, so now the structure has to change for both models\n",
    "\n",
    "g = layers.Concatenate()([noise_input, label_input])\n",
    "g = layers.Dense(256, activation=\"tanh\", kernel_initializer=\"he_normal\")(g)\n",
    "g = layers.Dense(784, activation=\"tanh\", kernel_initializer=\"he_normal\")(g)\n",
    "g = layers.Dense(28*28, activation = \"sigmoid\")(g)\n",
    "output = layers.Reshape((28, 28))(g)\n",
    "generator = keras.Model([noise_input, label_input], output, name=\"generator\")\n",
    "\n",
    "d = layers.Flatten()(image_input)\n",
    "d = layers.Concatenate()([d, label_input])\n",
    "d = layers.Dense(150, kernel_initializer=\"he_normal\")(d)\n",
    "d = LeakyReLU(0.2)(d)\n",
    "d = layers.Dense(100, kernel_initializer=\"he_normal\")(d)\n",
    "d = LeakyReLU(0.2)(d)\n",
    "output = layers.Dense(1, activation=\"sigmoid\")(d)\n",
    "discriminator = keras.Model([image_input, label_input], output, name=\"discriminator\")\n",
    "\n",
    "epochs = 40\n",
    "\n",
    "gan = GAN(discriminator=discriminator, generator=generator, latent_dim=latent_dim)\n",
    "gan.compile(\n",
    "    d_optimizer=keras.optimizers.RMSprop(learning_rate=0.0005),\n",
    "    g_optimizer=keras.optimizers.RMSprop(learning_rate=0.001),\n",
    "    loss_fn=keras.losses.BinaryCrossentropy(),\n",
    ")\n",
    "\n",
    "# keras looks at top-level inputs, not for gen/disc, so you have to pack it as one input and then unpack it later in the train step\n",
    "train_dataset = tf.data.Dataset.from_tensor_slices((X_train, y_train_cat)).batch(64) \n",
    "gan.fit(train_dataset, epochs = epochs)\n"
   ]
  },
  {
   "cell_type": "markdown",
   "id": "0653983e",
   "metadata": {},
   "source": [
    "Trial 1 (class code with 10 epochs) - generator loss explodes after 5+ epochs, discriminator loss decreases sharply\n",
    "\n",
    "Trial 2 (increase generator neuron capacity to capture more complex patterns) - generator loss increases after 5ish epochs, but discriminator loss stabilizes at ~0.6\n",
    "\n",
    "Trial 3 (decrease learning rate for generator to 0.0005 and generator to 0.001) - discriminator loss decreases, generator loss slowly increases\n",
    "\n",
    "Trial 4 (swap generator loss to tanh over relu) - discriminator loss stabilizes to 0.53, generator loss decreases for a while to around 1.3 but then starts icnreasing\n",
    "\n",
    "Trial 5 (swap discriminator loss to leaky_relu over relu, bump up epochs to 30) - discriminator loss stabilizes to 0.6ish, generator loss decreases and cuts off at 1.006\n",
    "\n",
    "Trial 6 (bump up epochs to 40) - discriminator loss ends at 0.63, generator loss decreases to 0.966\n",
    "\n",
    "Trial 7 (bump up epochs to 60) - discriminator loss ends at 0.64, generator loss decreases to 0.919\n",
    "\n",
    "Trial 8 (added batch normalization in generator) - same performance as trial 6\n",
    "\n",
    "Trial 9 (remove batch norms, add third layer in generator w/ 784 neurons) - 0.68 and 0.80 halfway, but started changing to 0.66 and 0.86 by epoch 60\n",
    "\n",
    "Trial 10 (halve epochs, remove 3rd layer and increase neurons in other 2) - 0.66 and 0.86\n",
    "\n",
    "Trial 11 (decrease neurons in 1st, keep 2nd the same) - 0.66, 0.84. but the letters are the clearest yet"
   ]
  },
  {
   "cell_type": "code",
   "execution_count": 104,
   "id": "9330a656",
   "metadata": {},
   "outputs": [],
   "source": [
    "def plot_images(string, generator, latent_dim, num_classes):\n",
    "    n = len(string)\n",
    "    \n",
    "    seed_gen = keras.random.SeedGenerator(1322)\n",
    "    random_latent_vectors = keras.random.normal(shape=(n, latent_dim), seed=seed_gen)\n",
    "\n",
    "    # for emnist, it's a = 1 to z = 26, so we need to convert chars to indices\n",
    "    label_indices = np.array([ord(c.lower()) - ord('a') for c in string])\n",
    "    labels = tf.keras.utils.to_categorical(label_indices, num_classes=num_classes)\n",
    "\n",
    "    # convert both to tensors\n",
    "    random_latent_vectors = tf.convert_to_tensor(random_latent_vectors, dtype=tf.float32)\n",
    "    labels = tf.convert_to_tensor(labels, dtype=tf.float32)\n",
    "\n",
    "    images = generator([random_latent_vectors, labels])\n",
    "\n",
    "    fig = plt.figure(figsize=(n * 1.5, 4.5))\n",
    "    for i in range(n):\n",
    "        plt.subplot(1, n, i + 1)\n",
    "        plt.imshow(images[i], cmap=\"gray\")\n",
    "        plt.axis(\"off\")\n",
    "    plt.show()\n"
   ]
  },
  {
   "cell_type": "code",
   "execution_count": 120,
   "id": "cc55c6d1",
   "metadata": {},
   "outputs": [
    {
     "data": {
      "image/png": "[encoded data removed]",
      "text/plain": [
       "<Figure size 1050x450 with 7 Axes>"
      ]
     },
     "metadata": {},
     "output_type": "display_data"
    }
   ],
   "source": [
    "plot_images(\"machine\", generator, latent_dim, num_classes)"
   ]
  }
 ],
 "metadata": {
  "kernelspec": {
   "display_name": "Python 3",
   "language": "python",
   "name": "python3"
  },
  "language_info": {
   "codemirror_mode": {
    "name": "ipython",
    "version": 3
   },
   "file_extension": ".py",
   "mimetype": "text/x-python",
   "name": "python",
   "nbconvert_exporter": "python",
   "pygments_lexer": "ipython3",
   "version": "3.13.3"
  }
 },
 "nbformat": 4,
 "nbformat_minor": 5
}
